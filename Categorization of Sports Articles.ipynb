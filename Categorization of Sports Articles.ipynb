{
 "cells": [
  {
   "cell_type": "markdown",
   "metadata": {},
   "source": [
    "# Topic modeling on BBC Sports news articles "
   ]
  },
  {
   "cell_type": "markdown",
   "metadata": {},
   "source": [
    "## Importing libraries and reading data "
   ]
  },
  {
   "cell_type": "code",
   "execution_count": 1,
   "metadata": {},
   "outputs": [],
   "source": [
    "#import the required library\n",
    "\n",
    "import numpy as np\n",
    "import pandas as pd\n",
    "import nltk\n",
    "import spacy\n",
    "import re\n",
    "import os\n",
    "import matplotlib.pyplot as plt\n",
    "import seaborn as sns"
   ]
  },
  {
   "cell_type": "code",
   "execution_count": 2,
   "metadata": {},
   "outputs": [],
   "source": [
    "pd.set_option(\"display.max_colwidth\", 200)"
   ]
  },
  {
   "cell_type": "code",
   "execution_count": 3,
   "metadata": {},
   "outputs": [],
   "source": [
    "# opening the file using open()\n",
    "\n",
    "file = open(\"/home/shubhamsingh/Desktop/files/ML/Categorization of sports article/bbcsports/bbc_sports_articles/003.txt\", mode = \"rt\", encoding = \"utf-8\")"
   ]
  },
  {
   "cell_type": "code",
   "execution_count": 4,
   "metadata": {},
   "outputs": [],
   "source": [
    "# read the content of the file by using read()\n",
    "\n",
    "text = file.read()"
   ]
  },
  {
   "cell_type": "code",
   "execution_count": 5,
   "metadata": {},
   "outputs": [],
   "source": [
    "# close the file\n",
    "\n",
    "file.close()"
   ]
  },
  {
   "cell_type": "code",
   "execution_count": 6,
   "metadata": {},
   "outputs": [
    {
     "data": {
      "text/plain": [
       "'Greene sets sights on world title\\n\\nMaurice Greene aims to wipe out the pain of losing his Olympic 100m title in Athens by winning a fourth World Championship crown this summer.\\n\\nHe had to settle for bronze in Greece behind fellow American Justin Gatlin and Francis Obikwelu of Portugal. \"It really hurts to look at that medal. It was my mistake. I lost because of the things I did,\" said Greene, who races in Birmingham on Friday. \"It\\'s never going to happen again. My goal - I\\'m going to win the worlds.\" Greene crossed the line just 0.02 seconds behind Gatlin, who won in 9.87 seconds in one of the closest and fastest sprints of all time. But Greene believes he lost the race and his title in the semi-finals. \"In my semi-final race, I should have won the race but I was conserving energy. \"That\\'s when Francis Obikwelu came up and I took third because I didn\\'t know he was there. \"I believe that\\'s what put me in lane seven in the final and, while I was in lane seven, I couldn\\'t feel anything in the race.\\n\\n\"I just felt like I was running all alone. \"I believe if I was in the middle of the race I would have been able to react to people that came ahead of me.\" Greene was also denied Olympic gold in the 4x100m men\\'s relay when he could not catch Britain\\'s Mark Lewis-Francis on the final leg. The Kansas star is set to go head-to-head with Lewis-Francis again at Friday\\'s Norwich Union Grand Prix. The pair contest the 60m, the distance over which Greene currently holds the world record of 6.39 seconds. He then has another indoor meeting in France before resuming training for the outdoor season and the task of recapturing his world title in Helsinki in August. Greene believes Gatlin will again prove the biggest threat to his ambitions in Finland. But he also admits he faces more than one rival for the world crown. \"There\\'s always someone else coming. I think when I was coming up I would say there was me and Ato (Boldon) in the young crowd,\" Greene said. \"Now you\\'ve got about five or six young guys coming up at the same time.\"\\n'"
      ]
     },
     "execution_count": 6,
     "metadata": {},
     "output_type": "execute_result"
    }
   ],
   "source": [
    "text"
   ]
  },
  {
   "cell_type": "code",
   "execution_count": 7,
   "metadata": {},
   "outputs": [],
   "source": [
    "#read file names\n",
    "\n",
    "file_names = os.listdir(\"/home/shubhamsingh/Desktop/files/ML/Categorization of sports article/bbcsports/bbc_sports_articles\")"
   ]
  },
  {
   "cell_type": "code",
   "execution_count": 8,
   "metadata": {},
   "outputs": [
    {
     "data": {
      "text/plain": [
       "471"
      ]
     },
     "execution_count": 8,
     "metadata": {},
     "output_type": "execute_result"
    }
   ],
   "source": [
    "len(file_names)"
   ]
  },
  {
   "cell_type": "code",
   "execution_count": 9,
   "metadata": {},
   "outputs": [
    {
     "data": {
      "text/plain": [
       "['030.txt',\n",
       " '179.txt',\n",
       " '313.txt',\n",
       " '054.txt',\n",
       " '440.txt',\n",
       " '253.txt',\n",
       " '301.txt',\n",
       " '400.txt',\n",
       " '311.txt',\n",
       " '101.txt']"
      ]
     },
     "execution_count": 9,
     "metadata": {},
     "output_type": "execute_result"
    }
   ],
   "source": [
    "file_names[:10]"
   ]
  },
  {
   "cell_type": "code",
   "execution_count": 10,
   "metadata": {},
   "outputs": [],
   "source": [
    "#create empty list\n",
    "\n",
    "articles = []\n",
    "\n",
    "for i in file_names:\n",
    "    file = open('/home/shubhamsingh/Desktop/files/ML/Categorization of sports article/bbcsports/bbc_sports_articles/'+i, mode = \"rt\", encoding = \"utf-8\")\n",
    "    text = file.read()\n",
    "    file.close()\n",
    "    \n",
    "    articles.append(text)"
   ]
  },
  {
   "cell_type": "code",
   "execution_count": 11,
   "metadata": {},
   "outputs": [
    {
     "data": {
      "text/plain": [
       "471"
      ]
     },
     "execution_count": 11,
     "metadata": {},
     "output_type": "execute_result"
    }
   ],
   "source": [
    "len(articles)"
   ]
  },
  {
   "cell_type": "code",
   "execution_count": 12,
   "metadata": {},
   "outputs": [
    {
     "data": {
      "text/plain": [
       "'Federer wins title in Rotterdam\\n\\nWorld number one Roger Federer won the World Indoor Tournament in Rotterdam with a battling 5-7 7-5 7-6 victory over Ivan Ljubicic on Sunday.\\n\\nThe Swiss star was made to work hard by Ljubicic, who also lost to Federer in last month\\'s final in Doha. The Croatian broke his serve for the first time in the tournament to take the first set, but Federer hit back and took the decider on a tie-break. He has now won his last 15 finals after triumphing in two hours and 42 minutes. Federer said: \"Today it was very close and it could have gone either way but I\\'m happy I fought through because this might be a crucial victory for me for the rest of the season. \"I knew I had to fight hard today and that\\'s exactly what happened. \"I played one shocking game to be broken. He took advantage of it and broke me to love but I still felt I gave that game away. \"That haunted me all the way, right until match point. I fought well today so I\\'m happy.\"\\n'"
      ]
     },
     "execution_count": 12,
     "metadata": {},
     "output_type": "execute_result"
    }
   ],
   "source": [
    "articles[223]"
   ]
  },
  {
   "cell_type": "markdown",
   "metadata": {},
   "source": [
    "## Data cleaning"
   ]
  },
  {
   "cell_type": "code",
   "execution_count": 13,
   "metadata": {},
   "outputs": [],
   "source": [
    "#create empty list\n",
    "\n",
    "clean_articles = []\n",
    "\n",
    "for i in articles:\n",
    "    clean_articles.append(i.replace(\"\\n\", \" \").replace(\"\\'\", \" \"))"
   ]
  },
  {
   "cell_type": "code",
   "execution_count": 14,
   "metadata": {},
   "outputs": [
    {
     "data": {
      "text/plain": [
       "'Federer wins title in Rotterdam  World number one Roger Federer won the World Indoor Tournament in Rotterdam with a battling 5-7 7-5 7-6 victory over Ivan Ljubicic on Sunday.  The Swiss star was made to work hard by Ljubicic, who also lost to Federer in last month s final in Doha. The Croatian broke his serve for the first time in the tournament to take the first set, but Federer hit back and took the decider on a tie-break. He has now won his last 15 finals after triumphing in two hours and 42 minutes. Federer said: \"Today it was very close and it could have gone either way but I m happy I fought through because this might be a crucial victory for me for the rest of the season. \"I knew I had to fight hard today and that s exactly what happened. \"I played one shocking game to be broken. He took advantage of it and broke me to love but I still felt I gave that game away. \"That haunted me all the way, right until match point. I fought well today so I m happy.\" '"
      ]
     },
     "execution_count": 14,
     "metadata": {},
     "output_type": "execute_result"
    }
   ],
   "source": [
    "clean_articles[223]"
   ]
  },
  {
   "cell_type": "code",
   "execution_count": 15,
   "metadata": {},
   "outputs": [],
   "source": [
    "clean_articles = [re.sub(\"[^a-zA-Z]\", \" \", x) for x in clean_articles]"
   ]
  },
  {
   "cell_type": "code",
   "execution_count": 16,
   "metadata": {},
   "outputs": [
    {
     "data": {
      "text/plain": [
       "'Federer wins title in Rotterdam  World number one Roger Federer won the World Indoor Tournament in Rotterdam with a battling             victory over Ivan Ljubicic on Sunday   The Swiss star was made to work hard by Ljubicic  who also lost to Federer in last month s final in Doha  The Croatian broke his serve for the first time in the tournament to take the first set  but Federer hit back and took the decider on a tie break  He has now won his last    finals after triumphing in two hours and    minutes  Federer said   Today it was very close and it could have gone either way but I m happy I fought through because this might be a crucial victory for me for the rest of the season   I knew I had to fight hard today and that s exactly what happened   I played one shocking game to be broken  He took advantage of it and broke me to love but I still felt I gave that game away   That haunted me all the way  right until match point  I fought well today so I m happy   '"
      ]
     },
     "execution_count": 16,
     "metadata": {},
     "output_type": "execute_result"
    }
   ],
   "source": [
    "clean_articles[223]"
   ]
  },
  {
   "cell_type": "code",
   "execution_count": 17,
   "metadata": {},
   "outputs": [],
   "source": [
    "clean_articles = [' '.join([w for w in x.split() if len(w) > 1]) for x in clean_articles]"
   ]
  },
  {
   "cell_type": "code",
   "execution_count": 18,
   "metadata": {},
   "outputs": [
    {
     "data": {
      "text/plain": [
       "'Federer wins title in Rotterdam World number one Roger Federer won the World Indoor Tournament in Rotterdam with battling victory over Ivan Ljubicic on Sunday The Swiss star was made to work hard by Ljubicic who also lost to Federer in last month final in Doha The Croatian broke his serve for the first time in the tournament to take the first set but Federer hit back and took the decider on tie break He has now won his last finals after triumphing in two hours and minutes Federer said Today it was very close and it could have gone either way but happy fought through because this might be crucial victory for me for the rest of the season knew had to fight hard today and that exactly what happened played one shocking game to be broken He took advantage of it and broke me to love but still felt gave that game away That haunted me all the way right until match point fought well today so happy'"
      ]
     },
     "execution_count": 18,
     "metadata": {},
     "output_type": "execute_result"
    }
   ],
   "source": [
    "clean_articles[223]"
   ]
  },
  {
   "cell_type": "code",
   "execution_count": 19,
   "metadata": {},
   "outputs": [],
   "source": [
    "clean_articles = [x.lower() for x in clean_articles]"
   ]
  },
  {
   "cell_type": "code",
   "execution_count": 20,
   "metadata": {},
   "outputs": [
    {
     "data": {
      "text/plain": [
       "'federer wins title in rotterdam world number one roger federer won the world indoor tournament in rotterdam with battling victory over ivan ljubicic on sunday the swiss star was made to work hard by ljubicic who also lost to federer in last month final in doha the croatian broke his serve for the first time in the tournament to take the first set but federer hit back and took the decider on tie break he has now won his last finals after triumphing in two hours and minutes federer said today it was very close and it could have gone either way but happy fought through because this might be crucial victory for me for the rest of the season knew had to fight hard today and that exactly what happened played one shocking game to be broken he took advantage of it and broke me to love but still felt gave that game away that haunted me all the way right until match point fought well today so happy'"
      ]
     },
     "execution_count": 20,
     "metadata": {},
     "output_type": "execute_result"
    }
   ],
   "source": [
    "clean_articles[223]"
   ]
  },
  {
   "cell_type": "code",
   "execution_count": 21,
   "metadata": {},
   "outputs": [],
   "source": [
    "def freq_words(x, terms = 30):\n",
    "    #combine all the articles\n",
    "    text = ' '.join([text for text in x])\n",
    "    \n",
    "    # split it into a list of words\n",
    "    all_words = text.split()\n",
    "    \n",
    "    #prepare a dictionary of word frequency pairs\n",
    "    fdist = nltk.FreqDist(all_words)\n",
    "    words_df = pd.DataFrame({'word':list(fdist.keys()), 'count': list(fdist.values())})\n",
    "    \n",
    "    #select top n most frequent words\n",
    "    d = words_df.nlargest(columns = 'count', n = terms)\n",
    "    \n",
    "    #plot the word counts\n",
    "    plt.figure(figsize = (20, 5))\n",
    "    ax = sns.barplot(data = d, x = 'word', y = 'count')\n",
    "    ax.set(ylabel = 'Count')\n",
    "    plt.show()"
   ]
  },
  {
   "cell_type": "code",
   "execution_count": 22,
   "metadata": {},
   "outputs": [
    {
     "data": {
      "image/png": "[encoded data removed]",
      "text/plain": [
       "<Figure size 1440x360 with 1 Axes>"
      ]
     },
     "metadata": {
      "needs_background": "light"
     },
     "output_type": "display_data"
    }
   ],
   "source": [
    "freq_words(clean_articles)"
   ]
  },
  {
   "cell_type": "markdown",
   "metadata": {},
   "source": [
    "### removing stopwords using spacy"
   ]
  },
  {
   "cell_type": "code",
   "execution_count": 23,
   "metadata": {},
   "outputs": [],
   "source": [
    "import en_core_web_sm\n",
    "nlp = en_core_web_sm.load()"
   ]
  },
  {
   "cell_type": "code",
   "execution_count": 24,
   "metadata": {},
   "outputs": [],
   "source": [
    "#lemmetization\n",
    "clean_articles = [' '.join([token.lemma_ for token in nlp(x)]) for x in clean_articles]\n",
    "\n",
    "# remove stopwords\n",
    "clean_articles = [' '.join([w for w in x.split() if nlp.vocab[w].is_stop == False]) for x in clean_articles]"
   ]
  },
  {
   "cell_type": "code",
   "execution_count": 25,
   "metadata": {},
   "outputs": [
    {
     "data": {
      "text/plain": [
       "'feder win title rotterdam world number roger federer win world indoor tournament rotterdam battle victory ivan ljubicic sunday swiss star work hard ljubicic lose federer month final doha croatian break -PRON- serve time tournament set federer hit decider tie break -PRON- win -PRON- final triumph hour minute federer today -PRON- close -PRON- way happy fight crucial victory -PRON- rest season know fight hard today exactly happen play shocking game break -PRON- advantage -PRON- break -PRON- love feel game away haunt -PRON- way right match point fight today happy'"
      ]
     },
     "execution_count": 25,
     "metadata": {},
     "output_type": "execute_result"
    }
   ],
   "source": [
    "clean_articles[223]"
   ]
  },
  {
   "cell_type": "code",
   "execution_count": 26,
   "metadata": {},
   "outputs": [
    {
     "data": {
      "image/png": "[encoded data removed]",
      "text/plain": [
       "<Figure size 1440x360 with 1 Axes>"
      ]
     },
     "metadata": {
      "needs_background": "light"
     },
     "output_type": "display_data"
    }
   ],
   "source": [
    "freq_words(clean_articles)"
   ]
  },
  {
   "cell_type": "code",
   "execution_count": 27,
   "metadata": {},
   "outputs": [],
   "source": [
    "#remove -PRON- tag\n",
    "\n",
    "clean_articles = [re.sub('-PRON-', '', i) for i in clean_articles]"
   ]
  },
  {
   "cell_type": "code",
   "execution_count": 28,
   "metadata": {},
   "outputs": [
    {
     "data": {
      "image/png": "[encoded data removed]",
      "text/plain": [
       "<Figure size 1440x360 with 1 Axes>"
      ]
     },
     "metadata": {
      "needs_background": "light"
     },
     "output_type": "display_data"
    }
   ],
   "source": [
    "freq_words(clean_articles)"
   ]
  },
  {
   "cell_type": "markdown",
   "metadata": {},
   "source": [
    "## Topic modeling "
   ]
  },
  {
   "cell_type": "code",
   "execution_count": 29,
   "metadata": {},
   "outputs": [],
   "source": [
    "def get_words(x):\n",
    "    text = ' '.join([text for text in x])\n",
    "    return set(text.split())"
   ]
  },
  {
   "cell_type": "code",
   "execution_count": 30,
   "metadata": {},
   "outputs": [
    {
     "data": {
      "text/plain": [
       "7579"
      ]
     },
     "execution_count": 30,
     "metadata": {},
     "output_type": "execute_result"
    }
   ],
   "source": [
    "unique_words = get_words(clean_articles)\n",
    "len(unique_words)"
   ]
  },
  {
   "cell_type": "code",
   "execution_count": 31,
   "metadata": {},
   "outputs": [],
   "source": [
    "from sklearn.feature_extraction.text import TfidfVectorizer"
   ]
  },
  {
   "cell_type": "code",
   "execution_count": 32,
   "metadata": {},
   "outputs": [
    {
     "data": {
      "text/plain": [
       "(471, 7579)"
      ]
     },
     "execution_count": 32,
     "metadata": {},
     "output_type": "execute_result"
    }
   ],
   "source": [
    "vectorizer = TfidfVectorizer()\n",
    "\n",
    "X = vectorizer.fit_transform(clean_articles)\n",
    "\n",
    "X.shape"
   ]
  },
  {
   "cell_type": "code",
   "execution_count": 33,
   "metadata": {},
   "outputs": [],
   "source": [
    "X_df = pd.SparseDataFrame(X, columns = vectorizer.get_feature_names(), index = range(len(clean_articles)))"
   ]
  },
  {
   "cell_type": "code",
   "execution_count": 34,
   "metadata": {},
   "outputs": [
    {
     "data": {
      "text/html": [
       "<div>\n",
       "<style scoped>\n",
       "    .dataframe tbody tr th:only-of-type {\n",
       "        vertical-align: middle;\n",
       "    }\n",
       "\n",
       "    .dataframe tbody tr th {\n",
       "        vertical-align: top;\n",
       "    }\n",
       "\n",
       "    .dataframe thead th {\n",
       "        text-align: right;\n",
       "    }\n",
       "</style>\n",
       "<table border=\"1\" class=\"dataframe\">\n",
       "  <thead>\n",
       "    <tr style=\"text-align: right;\">\n",
       "      <th></th>\n",
       "      <th>carlo</th>\n",
       "      <th>carlos</th>\n",
       "      <th>carlsen</th>\n",
       "      <th>carolina</th>\n",
       "      <th>carr</th>\n",
       "      <th>carrier</th>\n",
       "      <th>carroll</th>\n",
       "      <th>carry</th>\n",
       "      <th>carter</th>\n",
       "      <th>cartilage</th>\n",
       "      <th>carve</th>\n",
       "      <th>carwyn</th>\n",
       "      <th>cas</th>\n",
       "      <th>case</th>\n",
       "      <th>casey</th>\n",
       "      <th>cash</th>\n",
       "      <th>casson</th>\n",
       "      <th>cast</th>\n",
       "      <th>castaignede</th>\n",
       "      <th>castigate</th>\n",
       "    </tr>\n",
       "  </thead>\n",
       "  <tbody>\n",
       "    <tr>\n",
       "      <th>0</th>\n",
       "      <td>NaN</td>\n",
       "      <td>NaN</td>\n",
       "      <td>NaN</td>\n",
       "      <td>NaN</td>\n",
       "      <td>NaN</td>\n",
       "      <td>NaN</td>\n",
       "      <td>0.052024</td>\n",
       "      <td>NaN</td>\n",
       "      <td>NaN</td>\n",
       "      <td>NaN</td>\n",
       "      <td>NaN</td>\n",
       "      <td>NaN</td>\n",
       "      <td>NaN</td>\n",
       "      <td>NaN</td>\n",
       "      <td>NaN</td>\n",
       "      <td>NaN</td>\n",
       "      <td>NaN</td>\n",
       "      <td>NaN</td>\n",
       "      <td>NaN</td>\n",
       "      <td>NaN</td>\n",
       "    </tr>\n",
       "    <tr>\n",
       "      <th>1</th>\n",
       "      <td>NaN</td>\n",
       "      <td>NaN</td>\n",
       "      <td>NaN</td>\n",
       "      <td>NaN</td>\n",
       "      <td>NaN</td>\n",
       "      <td>NaN</td>\n",
       "      <td>NaN</td>\n",
       "      <td>NaN</td>\n",
       "      <td>NaN</td>\n",
       "      <td>NaN</td>\n",
       "      <td>NaN</td>\n",
       "      <td>NaN</td>\n",
       "      <td>NaN</td>\n",
       "      <td>NaN</td>\n",
       "      <td>NaN</td>\n",
       "      <td>NaN</td>\n",
       "      <td>NaN</td>\n",
       "      <td>NaN</td>\n",
       "      <td>NaN</td>\n",
       "      <td>NaN</td>\n",
       "    </tr>\n",
       "    <tr>\n",
       "      <th>2</th>\n",
       "      <td>NaN</td>\n",
       "      <td>NaN</td>\n",
       "      <td>NaN</td>\n",
       "      <td>NaN</td>\n",
       "      <td>NaN</td>\n",
       "      <td>NaN</td>\n",
       "      <td>NaN</td>\n",
       "      <td>NaN</td>\n",
       "      <td>NaN</td>\n",
       "      <td>NaN</td>\n",
       "      <td>NaN</td>\n",
       "      <td>NaN</td>\n",
       "      <td>NaN</td>\n",
       "      <td>NaN</td>\n",
       "      <td>NaN</td>\n",
       "      <td>NaN</td>\n",
       "      <td>NaN</td>\n",
       "      <td>NaN</td>\n",
       "      <td>NaN</td>\n",
       "      <td>NaN</td>\n",
       "    </tr>\n",
       "    <tr>\n",
       "      <th>3</th>\n",
       "      <td>NaN</td>\n",
       "      <td>NaN</td>\n",
       "      <td>NaN</td>\n",
       "      <td>NaN</td>\n",
       "      <td>NaN</td>\n",
       "      <td>NaN</td>\n",
       "      <td>NaN</td>\n",
       "      <td>NaN</td>\n",
       "      <td>NaN</td>\n",
       "      <td>NaN</td>\n",
       "      <td>NaN</td>\n",
       "      <td>NaN</td>\n",
       "      <td>NaN</td>\n",
       "      <td>0.057147</td>\n",
       "      <td>NaN</td>\n",
       "      <td>NaN</td>\n",
       "      <td>NaN</td>\n",
       "      <td>NaN</td>\n",
       "      <td>NaN</td>\n",
       "      <td>NaN</td>\n",
       "    </tr>\n",
       "    <tr>\n",
       "      <th>4</th>\n",
       "      <td>0.05786</td>\n",
       "      <td>NaN</td>\n",
       "      <td>NaN</td>\n",
       "      <td>NaN</td>\n",
       "      <td>NaN</td>\n",
       "      <td>NaN</td>\n",
       "      <td>NaN</td>\n",
       "      <td>NaN</td>\n",
       "      <td>NaN</td>\n",
       "      <td>NaN</td>\n",
       "      <td>NaN</td>\n",
       "      <td>NaN</td>\n",
       "      <td>NaN</td>\n",
       "      <td>NaN</td>\n",
       "      <td>NaN</td>\n",
       "      <td>NaN</td>\n",
       "      <td>NaN</td>\n",
       "      <td>NaN</td>\n",
       "      <td>NaN</td>\n",
       "      <td>NaN</td>\n",
       "    </tr>\n",
       "    <tr>\n",
       "      <th>5</th>\n",
       "      <td>NaN</td>\n",
       "      <td>NaN</td>\n",
       "      <td>NaN</td>\n",
       "      <td>NaN</td>\n",
       "      <td>NaN</td>\n",
       "      <td>NaN</td>\n",
       "      <td>NaN</td>\n",
       "      <td>NaN</td>\n",
       "      <td>NaN</td>\n",
       "      <td>NaN</td>\n",
       "      <td>NaN</td>\n",
       "      <td>NaN</td>\n",
       "      <td>NaN</td>\n",
       "      <td>NaN</td>\n",
       "      <td>NaN</td>\n",
       "      <td>NaN</td>\n",
       "      <td>NaN</td>\n",
       "      <td>NaN</td>\n",
       "      <td>NaN</td>\n",
       "      <td>NaN</td>\n",
       "    </tr>\n",
       "    <tr>\n",
       "      <th>6</th>\n",
       "      <td>NaN</td>\n",
       "      <td>NaN</td>\n",
       "      <td>NaN</td>\n",
       "      <td>NaN</td>\n",
       "      <td>NaN</td>\n",
       "      <td>NaN</td>\n",
       "      <td>NaN</td>\n",
       "      <td>NaN</td>\n",
       "      <td>NaN</td>\n",
       "      <td>NaN</td>\n",
       "      <td>NaN</td>\n",
       "      <td>NaN</td>\n",
       "      <td>NaN</td>\n",
       "      <td>NaN</td>\n",
       "      <td>NaN</td>\n",
       "      <td>NaN</td>\n",
       "      <td>NaN</td>\n",
       "      <td>NaN</td>\n",
       "      <td>NaN</td>\n",
       "      <td>NaN</td>\n",
       "    </tr>\n",
       "    <tr>\n",
       "      <th>7</th>\n",
       "      <td>NaN</td>\n",
       "      <td>NaN</td>\n",
       "      <td>NaN</td>\n",
       "      <td>NaN</td>\n",
       "      <td>NaN</td>\n",
       "      <td>NaN</td>\n",
       "      <td>NaN</td>\n",
       "      <td>NaN</td>\n",
       "      <td>NaN</td>\n",
       "      <td>NaN</td>\n",
       "      <td>NaN</td>\n",
       "      <td>NaN</td>\n",
       "      <td>NaN</td>\n",
       "      <td>NaN</td>\n",
       "      <td>NaN</td>\n",
       "      <td>NaN</td>\n",
       "      <td>NaN</td>\n",
       "      <td>NaN</td>\n",
       "      <td>NaN</td>\n",
       "      <td>NaN</td>\n",
       "    </tr>\n",
       "    <tr>\n",
       "      <th>8</th>\n",
       "      <td>NaN</td>\n",
       "      <td>NaN</td>\n",
       "      <td>NaN</td>\n",
       "      <td>NaN</td>\n",
       "      <td>NaN</td>\n",
       "      <td>NaN</td>\n",
       "      <td>NaN</td>\n",
       "      <td>NaN</td>\n",
       "      <td>NaN</td>\n",
       "      <td>NaN</td>\n",
       "      <td>NaN</td>\n",
       "      <td>NaN</td>\n",
       "      <td>NaN</td>\n",
       "      <td>NaN</td>\n",
       "      <td>NaN</td>\n",
       "      <td>NaN</td>\n",
       "      <td>NaN</td>\n",
       "      <td>NaN</td>\n",
       "      <td>NaN</td>\n",
       "      <td>NaN</td>\n",
       "    </tr>\n",
       "    <tr>\n",
       "      <th>9</th>\n",
       "      <td>NaN</td>\n",
       "      <td>NaN</td>\n",
       "      <td>NaN</td>\n",
       "      <td>NaN</td>\n",
       "      <td>NaN</td>\n",
       "      <td>NaN</td>\n",
       "      <td>NaN</td>\n",
       "      <td>NaN</td>\n",
       "      <td>NaN</td>\n",
       "      <td>NaN</td>\n",
       "      <td>NaN</td>\n",
       "      <td>NaN</td>\n",
       "      <td>NaN</td>\n",
       "      <td>NaN</td>\n",
       "      <td>NaN</td>\n",
       "      <td>NaN</td>\n",
       "      <td>NaN</td>\n",
       "      <td>NaN</td>\n",
       "      <td>NaN</td>\n",
       "      <td>NaN</td>\n",
       "    </tr>\n",
       "  </tbody>\n",
       "</table>\n",
       "</div>"
      ],
      "text/plain": [
       "     carlo  carlos  carlsen  carolina  carr  carrier   carroll  carry  carter  \\\n",
       "0      NaN     NaN      NaN       NaN   NaN      NaN  0.052024    NaN     NaN   \n",
       "1      NaN     NaN      NaN       NaN   NaN      NaN       NaN    NaN     NaN   \n",
       "2      NaN     NaN      NaN       NaN   NaN      NaN       NaN    NaN     NaN   \n",
       "3      NaN     NaN      NaN       NaN   NaN      NaN       NaN    NaN     NaN   \n",
       "4  0.05786     NaN      NaN       NaN   NaN      NaN       NaN    NaN     NaN   \n",
       "5      NaN     NaN      NaN       NaN   NaN      NaN       NaN    NaN     NaN   \n",
       "6      NaN     NaN      NaN       NaN   NaN      NaN       NaN    NaN     NaN   \n",
       "7      NaN     NaN      NaN       NaN   NaN      NaN       NaN    NaN     NaN   \n",
       "8      NaN     NaN      NaN       NaN   NaN      NaN       NaN    NaN     NaN   \n",
       "9      NaN     NaN      NaN       NaN   NaN      NaN       NaN    NaN     NaN   \n",
       "\n",
       "   cartilage  carve  carwyn  cas      case  casey  cash  casson  cast  \\\n",
       "0        NaN    NaN     NaN  NaN       NaN    NaN   NaN     NaN   NaN   \n",
       "1        NaN    NaN     NaN  NaN       NaN    NaN   NaN     NaN   NaN   \n",
       "2        NaN    NaN     NaN  NaN       NaN    NaN   NaN     NaN   NaN   \n",
       "3        NaN    NaN     NaN  NaN  0.057147    NaN   NaN     NaN   NaN   \n",
       "4        NaN    NaN     NaN  NaN       NaN    NaN   NaN     NaN   NaN   \n",
       "5        NaN    NaN     NaN  NaN       NaN    NaN   NaN     NaN   NaN   \n",
       "6        NaN    NaN     NaN  NaN       NaN    NaN   NaN     NaN   NaN   \n",
       "7        NaN    NaN     NaN  NaN       NaN    NaN   NaN     NaN   NaN   \n",
       "8        NaN    NaN     NaN  NaN       NaN    NaN   NaN     NaN   NaN   \n",
       "9        NaN    NaN     NaN  NaN       NaN    NaN   NaN     NaN   NaN   \n",
       "\n",
       "   castaignede  castigate  \n",
       "0          NaN        NaN  \n",
       "1          NaN        NaN  \n",
       "2          NaN        NaN  \n",
       "3          NaN        NaN  \n",
       "4          NaN        NaN  \n",
       "5          NaN        NaN  \n",
       "6          NaN        NaN  \n",
       "7          NaN        NaN  \n",
       "8          NaN        NaN  \n",
       "9          NaN        NaN  "
      ]
     },
     "execution_count": 34,
     "metadata": {},
     "output_type": "execute_result"
    }
   ],
   "source": [
    "X_df.iloc[:10, 1000:1020]"
   ]
  },
  {
   "cell_type": "code",
   "execution_count": 35,
   "metadata": {},
   "outputs": [
    {
     "data": {
      "text/plain": [
       "(471, 1000)"
      ]
     },
     "execution_count": 35,
     "metadata": {},
     "output_type": "execute_result"
    }
   ],
   "source": [
    "vectorizer = TfidfVectorizer()\n",
    "vectorizer = TfidfVectorizer(max_features = 1000, min_df = 5, max_df = 0.9)\n",
    "\n",
    "X = vectorizer.fit_transform(clean_articles)\n",
    "\n",
    "X.shape"
   ]
  },
  {
   "cell_type": "code",
   "execution_count": 36,
   "metadata": {},
   "outputs": [],
   "source": [
    "from sklearn.decomposition import TruncatedSVD\n",
    "\n",
    "svd_model = TruncatedSVD(n_components = 4, random_state = 12, n_iter = 100)"
   ]
  },
  {
   "cell_type": "code",
   "execution_count": 37,
   "metadata": {},
   "outputs": [
    {
     "data": {
      "text/plain": [
       "TruncatedSVD(algorithm='randomized', n_components=4, n_iter=100,\n",
       "       random_state=12, tol=0.0)"
      ]
     },
     "execution_count": 37,
     "metadata": {},
     "output_type": "execute_result"
    }
   ],
   "source": [
    "svd_model.fit(X)"
   ]
  },
  {
   "cell_type": "code",
   "execution_count": 38,
   "metadata": {},
   "outputs": [
    {
     "name": "stdout",
     "output_type": "stream",
     "text": [
      "Topic 0: \n",
      "['england', 'win', 'play', 'year', 'game', 'test', 'match', 'world', 'good', 'wale', 'player', 'team', 'ireland', 'final', 'time', 'day', 'new', 'cricket', 'rugby', 'second', 'come', 'france', 'set', 'open', 'run', 'injury', 'coach', 'cup', 'think', 'half', 'tour', 'australia', 'south', 'nation', 'start', 'series', 'international', 'victory', 'champion', 'beat', 'try', 'week', 'captain', 'great', 'william', 'season', 'robinson', 'ball', 'lose', 've']\n",
      "\n",
      "\n",
      "Topic 1: \n",
      "['olympic', 'indoor', 'champion', 'win', 'seed', 'world', 'title', 'race', 'open', 'final', 'european', 'set', 'year', 'holme', 'roddick', 'woman', 'event', 'championship', 'athen', 'compete', 'record', 'round', 'britain', 'athlete', 'birmingham', 'federer', 'hewitt', 'break', 'gold', 'beat', 'jump', 'grand', 'american', 'british', 'medal', 'agassi', 'australian', 'athletic', 'second', 'davenport', 'marathon', 'double', 'madrid', 'russian', 'tennis', 'cross', 'old', 'francis', 'henman', 'safin']\n",
      "\n",
      "\n",
      "Topic 2: \n",
      "['wale', 'england', 'ireland', 'robinson', 'france', 'nation', 'rugby', 'half', 'scotland', 'italy', 'william', 'kick', 'try', 'coach', 'leicester', 'penalty', 'bath', 'game', 'wilkinson', 'centre', 'hodgson', 'henson', 'player', 'ruddock', 'lion', 'gara', 'driscoll', 'stade', 'injury', 'thomas', 'irish', 'wasps', 'laporte', 'andy', 'scrum', 'cardiff', 'wing', 'barkley', 'welsh', 'referee', 'slam', 'lewsey', 'fly', 'flanker', 'cueto', 'twickenham', 'sale', 'woodward', 'gloucester', 'replacement']\n",
      "\n",
      "\n",
      "Topic 3: \n",
      "['kenteris', 'olympic', 'greek', 'thanou', 'iaaf', 'drug', 'athen', 'athletic', 'athlete', 'charge', 'ban', 'sprinter', 'england', 'dope', 'test', 'miss', 'tribunal', 'wale', 'holme', 'robinson', 'federation', 'decision', 'ireland', 'race', 'indoor', 'trial', 'rugby', 'european', 'medal', 'sport', 'evidence', 'suspend', 'marathon', 'conte', 'nation', 'kosta', 'coach', 'pair', 'gold', 'radcliffe', 'birmingham', 'collin', 'balco', 'training', 'compete', 'case', 'committee', 'appeal', 'record', 'hearing']\n",
      "\n",
      "\n"
     ]
    }
   ],
   "source": [
    "terms = vectorizer.get_feature_names()\n",
    "\n",
    "for i,comp in enumerate(svd_model.components_):\n",
    "    terms_comp = zip(terms, comp)\n",
    "    sorted_terms = sorted(terms_comp, key = lambda x:x[1], reverse = True)[:50]\n",
    "    \n",
    "    print(\"Topic \"+str(i)+\": \")\n",
    "    topics = []\n",
    "    for t in sorted_terms:\n",
    "        topics.append(t[0])\n",
    "        \n",
    "    print(topics)\n",
    "    print(\"\\n\")"
   ]
  },
  {
   "cell_type": "markdown",
   "metadata": {},
   "source": [
    "## Article categorization "
   ]
  },
  {
   "cell_type": "code",
   "execution_count": 39,
   "metadata": {},
   "outputs": [
    {
     "data": {
      "text/plain": [
       "(471, 4)"
      ]
     },
     "execution_count": 39,
     "metadata": {},
     "output_type": "execute_result"
    }
   ],
   "source": [
    "lsa_topic_matrix = svd_model.transform(X)\n",
    "lsa_topic_matrix.shape"
   ]
  },
  {
   "cell_type": "code",
   "execution_count": 50,
   "metadata": {},
   "outputs": [
    {
     "data": {
      "text/plain": [
       "array([ 0.23558268,  0.11794395, -0.10913573,  0.1346263 ])"
      ]
     },
     "execution_count": 50,
     "metadata": {},
     "output_type": "execute_result"
    }
   ],
   "source": [
    "lsa_topic_matrix[45]"
   ]
  },
  {
   "cell_type": "code",
   "execution_count": 43,
   "metadata": {},
   "outputs": [
    {
     "data": {
      "text/plain": [
       "0"
      ]
     },
     "execution_count": 43,
     "metadata": {},
     "output_type": "execute_result"
    }
   ],
   "source": [
    "np.argmax(lsa_topic_matrix[200])"
   ]
  },
  {
   "cell_type": "code",
   "execution_count": null,
   "metadata": {},
   "outputs": [],
   "source": []
  }
 ],
 "metadata": {
  "kernelspec": {
   "display_name": "Python 3",
   "language": "python",
   "name": "python3"
  },
  "language_info": {
   "codemirror_mode": {
    "name": "ipython",
    "version": 3
   },
   "file_extension": ".py",
   "mimetype": "text/x-python",
   "name": "python",
   "nbconvert_exporter": "python",
   "pygments_lexer": "ipython3",
   "version": "3.7.3"
  }
 },
 "nbformat": 4,
 "nbformat_minor": 2
}
